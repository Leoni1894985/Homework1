{
 "cells": [
  {
   "cell_type": "markdown",
   "id": "9ed18d19",
   "metadata": {},
   "source": [
    "Say \"Hello, World!\" With Python"
   ]
  },
  {
   "cell_type": "code",
   "execution_count": null,
   "id": "b2b15248",
   "metadata": {},
   "outputs": [],
   "source": [
    "my_string=\"Hello, World!\"\n",
    "print(my_string)"
   ]
  },
  {
   "cell_type": "markdown",
   "id": "8c27710f",
   "metadata": {},
   "source": [
    "Python If_Else"
   ]
  },
  {
   "cell_type": "code",
   "execution_count": null,
   "id": "c6ef9a4c",
   "metadata": {},
   "outputs": [],
   "source": [
    "import math\n",
    "import os\n",
    "import random\n",
    "import re\n",
    "import sys\n",
    "\n",
    "\n",
    "\n",
    "if __name__ == '__main__':\n",
    "    n = int(input().strip())\n",
    "    t='Weird'\n",
    "    if (float(n//2)<n/2):\n",
    "        print(t)\n",
    "    elif (float(n//2)==n/2)and(1<n<6):\n",
    "        print('Not', t)\n",
    "    else:\n",
    "        if (float(n//2)==n/2)and(5<n<21):\n",
    "            print(t)\n",
    "        elif (float(n//2)==n/2)and(20<n):\n",
    "            print('Not', t)"
   ]
  },
  {
   "cell_type": "markdown",
   "id": "b358f673",
   "metadata": {},
   "source": [
    "Arithmetic Operators"
   ]
  },
  {
   "cell_type": "code",
   "execution_count": null,
   "id": "471bc718",
   "metadata": {},
   "outputs": [],
   "source": [
    "if __name__ == '__main__':\n",
    "    a = int(input())\n",
    "    b = int(input())\n",
    "    \n",
    "print(a+b)\n",
    "print(a-b)\n",
    "print(a*b)"
   ]
  },
  {
   "cell_type": "markdown",
   "id": "ac489e8f",
   "metadata": {},
   "source": [
    "Python: Division"
   ]
  },
  {
   "cell_type": "code",
   "execution_count": null,
   "id": "496d783a",
   "metadata": {},
   "outputs": [],
   "source": [
    "if __name__ == '__main__':\n",
    "    a = int(input())\n",
    "    b = int(input())\n",
    "    print(a//b)\n",
    "    print(a/b)"
   ]
  },
  {
   "cell_type": "markdown",
   "id": "d522a1c7",
   "metadata": {},
   "source": [
    "Loops"
   ]
  },
  {
   "cell_type": "code",
   "execution_count": null,
   "id": "7243f87f",
   "metadata": {},
   "outputs": [],
   "source": [
    "if __name__ == '__main__':\n",
    "    n = int(input())\n",
    "    for gino in range(n):\n",
    "        print(gino*gino)"
   ]
  },
  {
   "cell_type": "markdown",
   "id": "549d3dce",
   "metadata": {},
   "source": [
    "Write a Function"
   ]
  },
  {
   "cell_type": "code",
   "execution_count": null,
   "id": "8d907f74",
   "metadata": {},
   "outputs": [],
   "source": [
    "def is_leap(year):\n",
    "    leap = False\n",
    "        \n",
    "    if(year//400==year/400):\n",
    "        leap=(year//400==year/400)\n",
    "    elif(year//100==year/100):\n",
    "        leap=(not(year//100==year/100))\n",
    "    else:\n",
    "         if(year//4==year/4):\n",
    "            leap=(year//4==year/4)\n",
    "        \n",
    "    return leap\n",
    "\n",
    "year = int(input())\n",
    "print(is_leap(year))"
   ]
  },
  {
   "cell_type": "markdown",
   "id": "967cc121",
   "metadata": {},
   "source": [
    "Print Function"
   ]
  },
  {
   "cell_type": "code",
   "execution_count": null,
   "id": "14b92cec",
   "metadata": {},
   "outputs": [],
   "source": [
    "if __name__ == '__main__':\n",
    "\n",
    "    n = int(input())\n",
    "    i=1\n",
    "while i<=n:\n",
    "  print(i,end=\"\")\n",
    "  i=i+1"
   ]
  },
  {
   "cell_type": "markdown",
   "id": "983bd90f",
   "metadata": {},
   "source": [
    "List Comprehensions"
   ]
  },
  {
   "cell_type": "code",
   "execution_count": null,
   "id": "aca010f3",
   "metadata": {},
   "outputs": [],
   "source": [
    "if __name__ == '__main__':\n",
    "    x = int(input())\n",
    "    y = int(input())\n",
    "    z = int(input())\n",
    "    n = int(input())\n",
    "    \n",
    "    a=[]\n",
    "   \n",
    "    for i in range(x+1):\n",
    "        for j in range(y+1):\n",
    "            for l in range(z+1):\n",
    "                if (i+j+l)!=n:\n",
    "                    a.append([i,j,l])\n",
    "\n",
    "    print(a)"
   ]
  },
  {
   "cell_type": "markdown",
   "id": "31c576d4",
   "metadata": {},
   "source": [
    "Find the Runner-Up Score!"
   ]
  },
  {
   "cell_type": "code",
   "execution_count": null,
   "id": "44af8813",
   "metadata": {},
   "outputs": [],
   "source": [
    "if __name__ == '__main__':\n",
    "    n = int(input())\n",
    "    arr = map(int, input().split())\n",
    "    a=list(arr)\n",
    "    a.sort(reverse=True)\n",
    "    b=max(a)\n",
    "    while b==max(a):\n",
    "      a.remove(max(a))\n",
    "    print(a[0])"
   ]
  },
  {
   "cell_type": "markdown",
   "id": "1cf3dce2",
   "metadata": {},
   "source": [
    "Nested Lists"
   ]
  },
  {
   "cell_type": "code",
   "execution_count": null,
   "id": "fa90c9b7",
   "metadata": {},
   "outputs": [],
   "source": [
    "if __name__ == '__main__':\n",
    "    a=list('')\n",
    "    b=list('')\n",
    "    li=list('')\n",
    "    n=int(input())\n",
    "    \n",
    "    for i in range(n):\n",
    "        name = input()\n",
    "        score = float(input())\n",
    "        a.append([name, score])\n",
    "        b.append(score)\n",
    "    \n",
    "    b.sort()\n",
    "    m=b[0]\n",
    "    while m==b[0]:\n",
    "       b.remove(b[0])\n",
    "    \n",
    "    for i in range(n):\n",
    "        if (a[i][1]==b[0]):\n",
    "            li.append(a[i][0])  \n",
    "                  \n",
    "    li.sort()\n",
    "    print('\\n'.join(li))"
   ]
  },
  {
   "cell_type": "markdown",
   "id": "9544791f",
   "metadata": {},
   "source": [
    "Finding the percentage"
   ]
  },
  {
   "cell_type": "code",
   "execution_count": null,
   "id": "3d9b8af1",
   "metadata": {},
   "outputs": [],
   "source": [
    "if __name__ == '__main__':\n",
    "    n = int(input())\n",
    "    student_marks = {}\n",
    "    for _ in range(n):\n",
    "        name, *line = input().split()\n",
    "        scores = list(map(float, line))\n",
    "        student_marks[name] = scores\n",
    "    query_name = input()\n",
    "    \n",
    "print(\"{:.2f}\".format(sum(student_marks[query_name])/len(student_marks[query_name])))"
   ]
  },
  {
   "cell_type": "markdown",
   "id": "6f35c63d",
   "metadata": {},
   "source": [
    "Lists"
   ]
  },
  {
   "cell_type": "code",
   "execution_count": null,
   "id": "dec806ae",
   "metadata": {},
   "outputs": [],
   "source": [
    "if __name__ == '__main__':\n",
    "    N = int(input())\n",
    "    l=[]\n",
    "\n",
    "    for i in range(N):\n",
    "        command, *number = input().split() \n",
    "    \n",
    "        if command == 'insert':\n",
    "            l.insert(int(number[0]),int(number[1]))\n",
    "                        \n",
    "        elif command == 'print':                       \n",
    "            print(l)\n",
    "                        \n",
    "        elif command == 'remove':\n",
    "            l.remove(int(number[0]))\n",
    "                        \n",
    "        elif command == 'append':\n",
    "            l.append(int(number[0]))\n",
    "                        \n",
    "        elif command == 'sort':\n",
    "            l.sort()\n",
    "                        \n",
    "        elif command == 'pop':\n",
    "            l.pop()\n",
    "        elif command == 'reverse':\n",
    "            l.reverse()"
   ]
  },
  {
   "cell_type": "markdown",
   "id": "39f960cb",
   "metadata": {},
   "source": [
    "sWAP cASE"
   ]
  },
  {
   "cell_type": "code",
   "execution_count": null,
   "id": "3b34eef3",
   "metadata": {},
   "outputs": [],
   "source": [
    "def swap_case(s):\n",
    "    b=\"\"\n",
    "    \n",
    "    for i in s:\n",
    "        if (i.islower()):\n",
    "            b=b+b.join(i.upper())\n",
    "        else:\n",
    "            b=b+b.join(i.lower())\n",
    "           \n",
    "    return b"
   ]
  },
  {
   "cell_type": "markdown",
   "id": "5125205b",
   "metadata": {},
   "source": [
    "String Split and Join"
   ]
  },
  {
   "cell_type": "code",
   "execution_count": null,
   "id": "2ef337f8",
   "metadata": {},
   "outputs": [],
   "source": [
    "def split_and_join(line):\n",
    "    line=line.split()\n",
    "    line = \"-\".join(line)\n",
    "    return line\n",
    "if __name__ == '__main__':\n",
    "    line = input()\n",
    "    result = split_and_join(line)\n",
    "    print(result)"
   ]
  },
  {
   "cell_type": "markdown",
   "id": "30e7b424",
   "metadata": {},
   "source": [
    "What's Your Name?"
   ]
  },
  {
   "cell_type": "code",
   "execution_count": null,
   "id": "32a5b30c",
   "metadata": {},
   "outputs": [],
   "source": [
    "def print_full_name(first, last):\n",
    "    # Write your code here\n",
    "    string=('Hello ')+first+(' ')+last+('! You just delved into python.')\n",
    "    print(string)\n",
    "    return \n",
    "\n",
    "if __name__ == '__main__':\n",
    "    first_name = input()\n",
    "    last_name = input()\n",
    "    print_full_name(first_name, last_name)"
   ]
  },
  {
   "cell_type": "markdown",
   "id": "c90ec549",
   "metadata": {},
   "source": [
    "Mutations"
   ]
  },
  {
   "cell_type": "code",
   "execution_count": null,
   "id": "ffb4c779",
   "metadata": {},
   "outputs": [],
   "source": [
    "def mutate_string(a, b, c):\n",
    "    \n",
    "    a=a[:b]+c+a[b+1:]\n",
    "    return a\n",
    "\n",
    "if __name__ == '__main__':\n",
    "    s = input()\n",
    "    i, c = input().split()\n",
    "    s_new = mutate_string(s, int(i), c)\n",
    "    print(s_new)"
   ]
  },
  {
   "cell_type": "markdown",
   "id": "660b954d",
   "metadata": {},
   "source": [
    "Find a string"
   ]
  },
  {
   "cell_type": "code",
   "execution_count": null,
   "id": "90d206ff",
   "metadata": {},
   "outputs": [],
   "source": [
    "def count_substring(string, sub_string):\n",
    "    k=0\n",
    "    \n",
    "    for i in range(len(string)-len(sub_string)+1):\n",
    "        if (string[i:i+len(sub_string)]==sub_string):\n",
    "            k=k+1\n",
    "    return k\n",
    "\n",
    "if __name__ == '__main__':\n",
    "    string = input().strip()\n",
    "    sub_string = input().strip()\n",
    "    \n",
    "    count = count_substring(string, sub_string)\n",
    "    print(count)"
   ]
  },
  {
   "cell_type": "markdown",
   "id": "2e4cff29",
   "metadata": {},
   "source": [
    "String Validators"
   ]
  },
  {
   "cell_type": "code",
   "execution_count": null,
   "id": "76cb35f3",
   "metadata": {},
   "outputs": [],
   "source": [
    "if __name__ == '__main__':\n",
    "    s = input()\n",
    "    \n",
    "    alphan=False\n",
    "    alphab=False\n",
    "    dig=False\n",
    "    lower=False\n",
    "    upper=False\n",
    "\n",
    "    \n",
    "    for i in range(len(s)):\n",
    "        if (not alphan):\n",
    "            alphan=s[i].isalnum()\n",
    "        if (not alphab):\n",
    "            alphab=s[i].isalpha()   \n",
    "        if (not dig):\n",
    "            dig=s[i].isdigit()\n",
    "        if (not lower):\n",
    "            lower=s[i].islower()\n",
    "        if (not upper):\n",
    "            upper=s[i].isupper()\n",
    "    \n",
    "    \n",
    "print(alphan)\n",
    "print(alphab)\n",
    "print(dig)\n",
    "print(lower)\n",
    "print(upper)"
   ]
  },
  {
   "cell_type": "markdown",
   "id": "4b0b4b69",
   "metadata": {},
   "source": [
    "Text Alignment"
   ]
  },
  {
   "cell_type": "code",
   "execution_count": null,
   "id": "d776fcd8",
   "metadata": {},
   "outputs": [],
   "source": [
    "thickness = int(input()) #This must be an odd number\n",
    "c = 'H'\n",
    "\n",
    "#Top Cone\n",
    "for i in range(thickness):\n",
    "    print((c*i).rjust(thickness-1,' ')+c+(c*i).ljust(thickness-1,' '))\n",
    "\n",
    "#Top Pillars\n",
    "for i in range(thickness+1):\n",
    "    print((c*thickness).center(thickness*2,' ')+(c*thickness).center(thickness*6,' '))\n",
    "\n",
    "#Middle Belt\n",
    "for i in range((thickness+1)//2):\n",
    "    print((c*thickness*5).center(thickness*6,' '))    \n",
    "\n",
    "#Bottom Pillars\n",
    "for i in range(thickness+1):\n",
    "    print((c*thickness).center(thickness*2,' ')+(c*thickness).center(thickness*6,' '))    \n",
    "\n",
    "#Bottom Cone\n",
    "for i in range(thickness):\n",
    "    print(((c*(thickness-i-1)).rjust(thickness,' ')+c+(c*(thickness-i-1)).ljust(thickness,' ')).rjust(thickness*6,' '))"
   ]
  },
  {
   "cell_type": "markdown",
   "id": "1baf24c2",
   "metadata": {},
   "source": [
    "Text Wrap"
   ]
  },
  {
   "cell_type": "code",
   "execution_count": null,
   "id": "1fde438a",
   "metadata": {},
   "outputs": [],
   "source": [
    "import textwrap\n",
    "\n",
    "def wrap(string, max_width):\n",
    "    a=len(string)//max_width\n",
    "    b=''\n",
    "    for i in range(a+1):\n",
    "        b=(b+string[(max_width*i):(max_width*(i+1))]+'\\n')\n",
    "        \n",
    "    return b\n",
    "\n",
    "if __name__ == '__main__':\n",
    "    string, max_width = input(), int(input())\n",
    "    result = wrap(string, max_width)\n",
    "    print(result)"
   ]
  },
  {
   "cell_type": "markdown",
   "id": "a8f02390",
   "metadata": {},
   "source": [
    "Designer Door Mat"
   ]
  },
  {
   "cell_type": "code",
   "execution_count": null,
   "id": "e8c1a8fa",
   "metadata": {},
   "outputs": [],
   "source": [
    "string=input('')\n",
    "string=string.split(\" \")\n",
    "N=int(string[0])\n",
    "M=int(string[1])\n",
    "\n",
    "for i in range(int((N-1)/2)):{\n",
    "    print(('.|.'*((2*i)+1)).center(M,'-'))}\n",
    "  \n",
    "print(('WELCOME').center(M,'-'))\n",
    " \n",
    "for i in range(int((N-1)/2)):\n",
    "    print((('.|.'*int(2*(int((N-1)/2)-i-0.5))).center(M,'-')))"
   ]
  },
  {
   "cell_type": "markdown",
   "id": "b2ab5e8d",
   "metadata": {},
   "source": [
    "String Formatting"
   ]
  },
  {
   "cell_type": "code",
   "execution_count": null,
   "id": "8c210486",
   "metadata": {},
   "outputs": [],
   "source": [
    "def print_formatted(n):\n",
    "    s=max(len(str(oct(n)[2:])), len(str(n)[2:]),len(str(bin(n)[2:])), len(str(hex(n)[2:])))\n",
    "\n",
    "    \n",
    "    for i in range(n):\n",
    "        o=oct(i+1)\n",
    "        h=hex(i+1)\n",
    "        b=bin(i+1)\n",
    "        print(str(i+1).rjust(s,' '), str(o[2:]).rjust(s,' '), str(h[2:]).rjust(s,' ').upper(), str(b[2:]).rjust(s,' '))\n",
    "    \n",
    " \n",
    "\n",
    "    if __name__ == '__main__':\n",
    "        n = int(input())\n",
    "        print_formatted(n)"
   ]
  },
  {
   "cell_type": "markdown",
   "id": "5dfc5e18",
   "metadata": {},
   "source": [
    "Alphabet Rangoli"
   ]
  },
  {
   "cell_type": "code",
   "execution_count": null,
   "id": "707ca2c8",
   "metadata": {},
   "outputs": [],
   "source": [
    "def print_rangoli(n):\n",
    "    #your code goes here\n",
    "    s='abcdefghijklmnopqrstuvwxyz'\n",
    "    li=list(s.strip())\n",
    "    #print(li)\n",
    "    lun=4*n-3    \n",
    "    for i in range(n):\n",
    "      l=li[n-1:n-1-i:-1]+li[n-i-1:n]   \n",
    "      print(('-'.join(l)).center(lun,'-'))\n",
    "      \n",
    "    for i in range(n-1):\n",
    "      l=li[n-1:i+1:-1]+li[i+1:n] \n",
    "      print(('-'.join(l)).center(lun,'-'))\n",
    "              \n",
    "         \n",
    "    \n",
    "\n",
    "if __name__ == '__main__':\n",
    "    n = int(input())\n",
    "    print_rangoli(n)"
   ]
  },
  {
   "cell_type": "markdown",
   "id": "b025e7b6",
   "metadata": {},
   "source": [
    "Capitalize!"
   ]
  },
  {
   "cell_type": "code",
   "execution_count": null,
   "id": "158a38a8",
   "metadata": {},
   "outputs": [],
   "source": [
    "def solve(s):\n",
    "    li=list(s)\n",
    "    t=list('')\n",
    "    li[0]=li[0].upper()\n",
    "    a=''\n",
    "    for i in range(len(li)):\n",
    "        if (li[i]==(' ')):\n",
    "           li[i+1]=li[i+1].upper()\n",
    "                \n",
    "                \n",
    "    a=('').join(li)            \n",
    "            \n",
    "        \n",
    "    return a\n",
    "           \n",
    "if __name__ == '__main__':\n",
    "    fptr = open(os.environ['OUTPUT_PATH'], 'w')\n",
    "\n",
    "    s = input()\n",
    "\n",
    "    result = solve(s)\n",
    "\n",
    "    fptr.write(result + '\\n')\n",
    "\n",
    "    fptr.close()"
   ]
  },
  {
   "cell_type": "markdown",
   "id": "7874aed2",
   "metadata": {},
   "source": [
    "The Minion Game"
   ]
  },
  {
   "cell_type": "code",
   "execution_count": null,
   "id": "dc7cfce3",
   "metadata": {},
   "outputs": [],
   "source": [
    "def minion_game(string):\n",
    "    # your code goes here\n",
    "    al=list('AEIOU')\n",
    "    li=string\n",
    "    l=len(string)\n",
    "    S=0\n",
    "    K=0\n",
    "    for i in range(l):\n",
    "        if ((li[i]==al[0])or(li[i]==al[1])or(li[i]==al[2])or(li[i]==al[3])or(li[i]==al[4])):\n",
    "            K=K+l-i\n",
    "        else:\n",
    "            S=S+l-i            \n",
    "    if K>S:\n",
    "        print('Kevin',K)\n",
    "    elif K==S:\n",
    "        print('Draw')\n",
    "    else:\n",
    "        print('Stuart',S)\n",
    "    \n",
    "    return \n",
    "if __name__ == '__main__':\n",
    "    s = input()\n",
    "    minion_game(s)"
   ]
  },
  {
   "cell_type": "markdown",
   "id": "1ee28706",
   "metadata": {},
   "source": [
    "Merge the Tools!"
   ]
  },
  {
   "cell_type": "code",
   "execution_count": null,
   "id": "baa039bd",
   "metadata": {},
   "outputs": [],
   "source": [
    "def merge_the_tools(s, k):\n",
    "    vol=len(s)//k\n",
    "    li=list(s.strip())\n",
    "    a=[]\n",
    "    \n",
    "    for i in range(vol):\n",
    "        a[:k]=reversed(li[i*k:(i+1)*k])\n",
    "        i=0\n",
    "        check=True\n",
    "        while check:\n",
    "        b=a[i]\n",
    "        if a.count(b)>1:\n",
    "            a.remove(b)\n",
    "        else:\n",
    "            i+=1\n",
    "        if i>(len(a)-2):\n",
    "            check=False\n",
    "        \n",
    "    print(''.join(reversed(a)))\n",
    "      \n",
    "    \n",
    "    \n",
    "              \n",
    "        \n",
    "if __name__ == '__main__':\n",
    "    string, k = input(), int(input())\n",
    "    merge_the_tools(string, k)"
   ]
  },
  {
   "cell_type": "markdown",
   "id": "84e39370",
   "metadata": {},
   "source": [
    "Introduction to Sets"
   ]
  },
  {
   "cell_type": "code",
   "execution_count": null,
   "id": "8448c3ab",
   "metadata": {},
   "outputs": [],
   "source": [
    "def average(array):\n",
    "    new=set(array)\n",
    "    return sum(new)/len(new)\n",
    "if __name__ == '__main__':\n",
    "    n = int(input())\n",
    "    arr = list(map(int, input().split()))\n",
    "    result = average(arr)\n",
    "    print(result)"
   ]
  },
  {
   "cell_type": "markdown",
   "id": "5609fd6d",
   "metadata": {},
   "source": [
    "No Idea!"
   ]
  },
  {
   "cell_type": "code",
   "execution_count": 1,
   "id": "6e278efb",
   "metadata": {},
   "outputs": [
    {
     "name": "stdout",
     "output_type": "stream",
     "text": [
      "\n",
      "1111hjkl\n"
     ]
    },
    {
     "ename": "ValueError",
     "evalue": "invalid literal for int() with base 10: '1111hjkl'",
     "output_type": "error",
     "traceback": [
      "\u001b[1;31m---------------------------------------------------------------------------\u001b[0m",
      "\u001b[1;31mValueError\u001b[0m                                Traceback (most recent call last)",
      "Input \u001b[1;32mIn [1]\u001b[0m, in \u001b[0;36m<cell line: 3>\u001b[1;34m()\u001b[0m\n\u001b[0;32m      1\u001b[0m n\u001b[38;5;241m=\u001b[39m\u001b[38;5;28mlist\u001b[39m(\u001b[38;5;28mmap\u001b[39m(\u001b[38;5;28mint\u001b[39m,\u001b[38;5;28minput\u001b[39m()\u001b[38;5;241m.\u001b[39msplit()))\n\u001b[1;32m----> 3\u001b[0m N\u001b[38;5;241m=\u001b[39m\u001b[38;5;28;43mlist\u001b[39;49m\u001b[43m(\u001b[49m\u001b[38;5;28;43mmap\u001b[39;49m\u001b[43m(\u001b[49m\u001b[38;5;28;43mint\u001b[39;49m\u001b[43m,\u001b[49m\u001b[38;5;28;43minput\u001b[39;49m\u001b[43m(\u001b[49m\u001b[43m)\u001b[49m\u001b[38;5;241;43m.\u001b[39;49m\u001b[43msplit\u001b[49m\u001b[43m(\u001b[49m\u001b[43m)\u001b[49m\u001b[43m)\u001b[49m\u001b[43m)\u001b[49m\n\u001b[0;32m      4\u001b[0m A\u001b[38;5;241m=\u001b[39m\u001b[38;5;28mset\u001b[39m(\u001b[38;5;28mlist\u001b[39m(\u001b[38;5;28mmap\u001b[39m(\u001b[38;5;28mint\u001b[39m,\u001b[38;5;28minput\u001b[39m()\u001b[38;5;241m.\u001b[39msplit())))\n\u001b[0;32m      5\u001b[0m B\u001b[38;5;241m=\u001b[39m\u001b[38;5;28mset\u001b[39m(\u001b[38;5;28mlist\u001b[39m(\u001b[38;5;28mmap\u001b[39m(\u001b[38;5;28mint\u001b[39m,\u001b[38;5;28minput\u001b[39m()\u001b[38;5;241m.\u001b[39msplit())))\n",
      "\u001b[1;31mValueError\u001b[0m: invalid literal for int() with base 10: '1111hjkl'"
     ]
    }
   ],
   "source": [
    "n=list(map(int,input().split()))\n",
    "\n",
    "N=list(map(int,input().split()))\n",
    "A=set(list(map(int,input().split())))\n",
    "B=set(list(map(int,input().split())))\n",
    "k=0\n",
    "for i in N:\n",
    "    if i in A:\n",
    "        k+=1\n",
    "    elif i in B:\n",
    "        k-=1\n",
    "        \n",
    "print(k)"
   ]
  },
  {
   "cell_type": "markdown",
   "id": "69bae5c7",
   "metadata": {},
   "source": [
    "Symmetric Difference"
   ]
  },
  {
   "cell_type": "code",
   "execution_count": null,
   "id": "c1a1d76d",
   "metadata": {},
   "outputs": [],
   "source": [
    "M=int(input())\n",
    "new=set(map(int,input().split()))\n",
    "N=int(input())\n",
    "new2=set(map(int,input().split()))\n",
    "b=(list(new.difference(new2).union(new2.difference(new))))\n",
    "b.sort()\n",
    "b=list(map(str,b))\n",
    "print('\\n'.join(b))"
   ]
  },
  {
   "cell_type": "markdown",
   "id": "d96d7e3c",
   "metadata": {},
   "source": [
    "Set.add()"
   ]
  },
  {
   "cell_type": "code",
   "execution_count": null,
   "id": "dffa5b20",
   "metadata": {},
   "outputs": [],
   "source": [
    "n=int(input())\n",
    "a=set('')\n",
    "for i in range(n):\n",
    "    b=str(input())\n",
    "    a.add(b)\n",
    "print(len(a))"
   ]
  },
  {
   "cell_type": "markdown",
   "id": "42360c78",
   "metadata": {},
   "source": [
    "Set .discard(), .remove() & .pop()"
   ]
  },
  {
   "cell_type": "code",
   "execution_count": null,
   "id": "52a1fb1a",
   "metadata": {},
   "outputs": [],
   "source": [
    "n = int(input())\n",
    "s = set(map(int, input().split()))\n",
    "com = int(input())\n",
    "\n",
    "command=set('')\n",
    "\n",
    "for i in range(com):\n",
    "    command,*number=input().split()\n",
    "    if command=='pop':\n",
    "        s.pop()\n",
    "    elif command=='remove':\n",
    "        s.remove(int(number[0]))\n",
    "    elif command=='discard':\n",
    "        s.discard(int(number[0]))\n",
    "print(sum(s))"
   ]
  },
  {
   "cell_type": "markdown",
   "id": "3766286f",
   "metadata": {},
   "source": [
    "Set .union() Operation"
   ]
  },
  {
   "cell_type": "code",
   "execution_count": null,
   "id": "244aff4d",
   "metadata": {},
   "outputs": [],
   "source": [
    "n=int(input())\n",
    "a=set(map(int,input().split()))\n",
    "n=int(input())\n",
    "b=set(map(int,input().split()))\n",
    "print(len(a.union(b)))"
   ]
  },
  {
   "cell_type": "markdown",
   "id": "162df80b",
   "metadata": {},
   "source": [
    "Set .intersection() Operation"
   ]
  },
  {
   "cell_type": "code",
   "execution_count": null,
   "id": "3f77c532",
   "metadata": {},
   "outputs": [],
   "source": [
    "n=input()\n",
    "A=set(map(int,input().split()))\n",
    "n=input()\n",
    "B=set(map(int,input().split()))\n",
    "\n",
    "print(len(A.intersection(B)))"
   ]
  },
  {
   "cell_type": "markdown",
   "id": "0378230f",
   "metadata": {},
   "source": [
    "Set .difference Operation"
   ]
  },
  {
   "cell_type": "code",
   "execution_count": null,
   "id": "bc496ef5",
   "metadata": {},
   "outputs": [],
   "source": [
    "n=input()\n",
    "A=set(map(int,input().split()))\n",
    "n=input()\n",
    "B=set(map(int,input().split()))\n",
    "\n",
    "print(len(A.difference(B)))"
   ]
  },
  {
   "cell_type": "markdown",
   "id": "4e97c028",
   "metadata": {},
   "source": [
    "Set .symmetric_difference() Operation"
   ]
  },
  {
   "cell_type": "code",
   "execution_count": null,
   "id": "dc33232c",
   "metadata": {},
   "outputs": [],
   "source": [
    "n=input()\n",
    "A=set(map(int,input().split()))\n",
    "n=input()\n",
    "B=set(map(int,input().split()))\n",
    "\n",
    "print(len(A.symmetric_difference(B)))"
   ]
  },
  {
   "cell_type": "markdown",
   "id": "9aab043a",
   "metadata": {},
   "source": [
    "Set Mutations"
   ]
  },
  {
   "cell_type": "code",
   "execution_count": null,
   "id": "d6feb520",
   "metadata": {},
   "outputs": [],
   "source": [
    "lun=int(input())\n",
    "new=set(map(int,input().split()))\n",
    "n=int(input())\n",
    "\n",
    "\n",
    "for i in range(n):\n",
    "    command=input().split()\n",
    "    new2=set(map(int,input().split()))\n",
    "    if command[0]=='intersection_update':\n",
    "        new.intersection_update(new2)\n",
    "    elif command[0]=='update':\n",
    "        new.update(new2)\n",
    "    elif command[0]=='symmetric_difference_update':\n",
    "        new.symmetric_difference_update(new2)\n",
    "    elif command[0]=='difference_update':\n",
    "        new.difference_update(new2)\n",
    "       \n",
    "print(sum(new))"
   ]
  },
  {
   "cell_type": "markdown",
   "id": "ac399115",
   "metadata": {},
   "source": [
    "The Captain's Room"
   ]
  },
  {
   "cell_type": "code",
   "execution_count": null,
   "id": "36128575",
   "metadata": {},
   "outputs": [],
   "source": [
    "k=int(input())\n",
    "li=list(map(int,input().split()))\n",
    "li.sort()\n",
    "i=0\n",
    "check=True\n",
    "\n",
    "if li[len(li)-1]!=li[len(li)-2]:\n",
    "    print(li[len(li)-1])\n",
    "elif li[0]!=li[1]:\n",
    "    print(0)\n",
    "else:\n",
    "    while i in range(int(len(li)//k))and check:#0-29\n",
    "        if(li[(i+1)*k]!=li[(i+1)*k+1]):\n",
    "            print(li[(i+1)*k])\n",
    "            check=False\n",
    "        i+=1"
   ]
  },
  {
   "cell_type": "markdown",
   "id": "b728da43",
   "metadata": {},
   "source": [
    "Check Subset"
   ]
  },
  {
   "cell_type": "code",
   "execution_count": null,
   "id": "6b6e673a",
   "metadata": {},
   "outputs": [],
   "source": [
    "n=int(input())\n",
    "\n",
    "for i in range(n):\n",
    "    n,A=int(input()),set(input().split())\n",
    "    m,B=int(input()),set(input().split())\n",
    "    if A.intersection(B)==A:\n",
    "        print(True)\n",
    "    else:\n",
    "        print(False)"
   ]
  },
  {
   "cell_type": "markdown",
   "id": "6e4e95f2",
   "metadata": {},
   "source": [
    "Check Strict Superset"
   ]
  },
  {
   "cell_type": "code",
   "execution_count": null,
   "id": "da4df7bd",
   "metadata": {},
   "outputs": [],
   "source": [
    "a=set(map(int,input().split()))\n",
    "\n",
    "n=int(input())\n",
    "check=True\n",
    "i=0\n",
    "while i in range(n) and check:\n",
    "  li=(set(map(int,input().split())))\n",
    "  if len(a.difference(li))<1 or len(li.difference(a))!=0: \n",
    "    check=False\n",
    "  i=i+1\n",
    "    \n",
    "if check:\n",
    "    print(True)\n",
    "else:\n",
    "    print(False)"
   ]
  },
  {
   "cell_type": "markdown",
   "id": "7aa2fee8",
   "metadata": {},
   "source": [
    "collections.Counter"
   ]
  },
  {
   "cell_type": "code",
   "execution_count": null,
   "id": "95e3c5eb",
   "metadata": {},
   "outputs": [],
   "source": [
    "from collections import Counter\n",
    "X=int(input())\n",
    "size=list(map(int,input().split()))\n",
    "N=int(input())\n",
    "\n",
    "b=Counter(size)\n",
    "\n",
    "a=0\n",
    "\n",
    "for i in range(N):\n",
    "    l,p=map(int,input().split())\n",
    "    if l in b.keys() and b[l]>0:\n",
    "        b[l]=b[l]-1\n",
    "        a=a+p\n",
    "print(a)"
   ]
  },
  {
   "cell_type": "markdown",
   "id": "b0744368",
   "metadata": {},
   "source": [
    "DefaultDict Tutorial"
   ]
  },
  {
   "cell_type": "code",
   "execution_count": null,
   "id": "f457564b",
   "metadata": {},
   "outputs": [],
   "source": [
    "from collections import defaultdict\n",
    "\n",
    "n,m=map(int,input().split())\n",
    "\n",
    "d=defaultdict(list)\n",
    "for i in range(n):\n",
    "    a=input()\n",
    "    d[a].append(str(i+1))\n",
    "for i in range(m):\n",
    "    b=input()\n",
    "    if d[b]==[]:\n",
    "        print('-1')\n",
    "    else:\n",
    "        print(' '.join(d[b]))"
   ]
  },
  {
   "cell_type": "markdown",
   "id": "79cc1ddf",
   "metadata": {},
   "source": [
    "Collections.namedtuple()"
   ]
  },
  {
   "cell_type": "code",
   "execution_count": null,
   "id": "4ec84478",
   "metadata": {},
   "outputs": [],
   "source": [
    "from collections import namedtuple\n",
    "n=int(input())\n",
    "a=map(str,input().split())\n",
    "spread=namedtuple('spread', a)\n",
    "s=0\n",
    "for i in range(n):\n",
    "   s=s+int(spread(*(input().split())).MARKS)\n",
    "print(s/n)\n",
    "#Ho visto le discussion"
   ]
  },
  {
   "cell_type": "markdown",
   "id": "a22fcdbc",
   "metadata": {},
   "source": [
    "Collections.OrderedDict()"
   ]
  },
  {
   "cell_type": "code",
   "execution_count": null,
   "id": "2819c0f6",
   "metadata": {},
   "outputs": [],
   "source": [
    "from collections import OrderedDict\n",
    "N=int(input())\n",
    "items=OrderedDict()\n",
    "for i in range(N):\n",
    "  b=input().split()\n",
    "  if (' '.join(b[:len(b)-1])) in items:\n",
    "    items[' '.join(b[:len(b)-1])]=items[' '.join(b[:len(b)-1])]+int(b[len(b)-1])\n",
    "  else:\n",
    "    items[' '.join(b[:len(b)-1])] = int(b[len(b)-1])\n",
    "\n",
    "for i in range(len(items)):    \n",
    "  print(' '.join([list(items.keys())[i],str(items[list(items.keys())[i]])])) "
   ]
  },
  {
   "cell_type": "markdown",
   "id": "88136e29",
   "metadata": {},
   "source": [
    "Word Order"
   ]
  },
  {
   "cell_type": "code",
   "execution_count": null,
   "id": "b190a713",
   "metadata": {},
   "outputs": [],
   "source": [
    "from collections import OrderedDict\n",
    "N=int(input())\n",
    "items=OrderedDict()\n",
    "for i in range(N):\n",
    "  b=input()\n",
    "  if (b) in items:\n",
    "    items[b]=items[b]+1\n",
    "  else:\n",
    "    items[b] = 1\n",
    "print(len(items))\n",
    "for i in items:    \n",
    "  print(items[i], end=' ')"
   ]
  },
  {
   "cell_type": "markdown",
   "id": "7970e642",
   "metadata": {},
   "source": [
    "Collections.deque()"
   ]
  },
  {
   "cell_type": "code",
   "execution_count": null,
   "id": "fc39a342",
   "metadata": {},
   "outputs": [],
   "source": [
    "from collections import deque\n",
    "N = int(input())\n",
    "l=deque()\n",
    "for i in range(N):\n",
    "        command = input().split()\n",
    "    \n",
    "        if command[0] == 'appendleft':\n",
    "            l.appendleft(int(command[1]))\n",
    "                        \n",
    "        elif command[0] == 'clear':                       \n",
    "            l.clear()            \n",
    "                        \n",
    "        elif command[0] == 'extend':\n",
    "            l.extend(int(command[1]))\n",
    "                        \n",
    "        elif command[0] == 'append':\n",
    "            l.append(int(command[1]))\n",
    "                        \n",
    "        elif command[0] == 'extendleft':\n",
    "            l.extendleft(int(command[1]))\n",
    "                        \n",
    "        elif command[0] == 'count':\n",
    "            l.count(int(command[1]))\n",
    "            \n",
    "        elif command[0] == 'pop':\n",
    "            l.pop()\n",
    "            \n",
    "        elif command[0] == 'remove':\n",
    "            l.remove(int(command[1]))\n",
    "                        \n",
    "        elif command[0] == 'reverse':\n",
    "            l.reverse()\n",
    "                        \n",
    "        elif command[0] == 'rotate':\n",
    "            l.rotate(int(command[1]))\n",
    "            \n",
    "        elif command[0] == 'popleft':\n",
    "            l.popleft()\n",
    "            \n",
    "print(' '.join(list(map(str,l))))"
   ]
  },
  {
   "cell_type": "markdown",
   "id": "f539cca7",
   "metadata": {},
   "source": [
    "Company Logo"
   ]
  },
  {
   "cell_type": "code",
   "execution_count": null,
   "id": "e34240a4",
   "metadata": {},
   "outputs": [],
   "source": [
    "from collections import Counter\n",
    "from collections import defaultdict\n",
    "\n",
    "import math\n",
    "import os\n",
    "import random\n",
    "import re\n",
    "import sys\n",
    "\n",
    "if __name__ == '__main__':\n",
    "    s = input()\n",
    "    \n",
    "    a=Counter(s)\n",
    "    d=defaultdict(list)\n",
    "    lo=list(a.keys())\n",
    "    \n",
    "    for i in range(len(lo)):\n",
    "      d[int(a[lo[i]])].append(lo[i])    \n",
    "    i=0\n",
    "    \n",
    "    while i<3:\n",
    "      if len(d[max(d.keys())])==1:\n",
    "        print(d[max(d.keys())][0],max(d.keys()))\n",
    "        i+=1\n",
    "        del d[max(d.keys())]\n",
    "      else: \n",
    "        l=d[max(d.keys())]\n",
    "        l.sort()\n",
    "        j=0\n",
    "        while i<3 and (j in range(len(l))):\n",
    "          print(l[j],max(d.keys()))\n",
    "          i+=1\n",
    "          j+=1\n",
    "        del d[max(d.keys())]"
   ]
  },
  {
   "cell_type": "markdown",
   "id": "038510e7",
   "metadata": {},
   "source": [
    "Piling Up!"
   ]
  },
  {
   "cell_type": "code",
   "execution_count": null,
   "id": "39e92ab2",
   "metadata": {},
   "outputs": [],
   "source": [
    "from collections import deque\n",
    "s=int(input())\n",
    "for i in range(s):\n",
    "  li=int(input())\n",
    "  l=deque(map(int,input().split()))\n",
    "  check=True\n",
    "  m=2**5\n",
    "  while check and len(l)>1:\n",
    "    if l[0]>l[-1]:\n",
    "      m=l[0]\n",
    "      l.popleft()\n",
    "    elif l[0]<l[-1] or l[0]==l[-1]:\n",
    "      m=l[-1]\n",
    "      l.pop()\n",
    "    \n",
    "    if m<max(l[0],l[-1]):\n",
    "      check=False\n",
    "      print('No')\n",
    "\n",
    "  if check:\n",
    "   print('Yes')"
   ]
  },
  {
   "cell_type": "markdown",
   "id": "a6274723",
   "metadata": {},
   "source": [
    "Calendar Module"
   ]
  },
  {
   "cell_type": "code",
   "execution_count": null,
   "id": "c5eb651a",
   "metadata": {},
   "outputs": [],
   "source": [
    "import calendar\n",
    "day=list(map(int,input().split()))\n",
    "a=calendar.weekday(day[2],day[0],day[1])\n",
    "if a==0:\n",
    "  print('MONDAY')\n",
    "if a==1:\n",
    "  print('TUESDAY')\n",
    "if a==2:\n",
    "  print('WEDNESDAY')\n",
    "if a==3:\n",
    "  print('THURSDAY')\n",
    "if a==4:\n",
    "  print('FRIDAY')\n",
    "if a==5:\n",
    "  print('SATURDAY')\n",
    "if a==6:\n",
    "  print('SUNDAY')"
   ]
  },
  {
   "cell_type": "markdown",
   "id": "4b24f14f",
   "metadata": {},
   "source": [
    "Time Delta"
   ]
  },
  {
   "cell_type": "code",
   "execution_count": null,
   "id": "2ca70222",
   "metadata": {},
   "outputs": [],
   "source": [
    "import math\n",
    "import os\n",
    "import random\n",
    "import re\n",
    "import sys\n",
    "\n",
    "from datetime import datetime \n",
    "\n",
    "def time_delta(t1, t2):\n",
    "    f=\"%a %d %b %Y %H:%M:%S %z\"\n",
    "    d1=datetime.strptime(t1, f)\n",
    "    d2=datetime.strptime(t2, f)\n",
    "    return str(abs(int((d1 - d2).total_seconds())))\n",
    "\n",
    "if __name__ == '__main__':\n",
    "    fptr = open(os.environ['OUTPUT_PATH'], 'w')\n",
    "\n",
    "    t = int(input())\n",
    "\n",
    "    for t_itr in range(t):\n",
    "        t1 = input()\n",
    "\n",
    "        t2 = input()\n",
    "\n",
    "        delta = time_delta(t1, t2)\n",
    "\n",
    "        fptr.write(delta + '\\n')\n",
    "\n",
    "    fptr.close()"
   ]
  },
  {
   "cell_type": "markdown",
   "id": "8628e287",
   "metadata": {},
   "source": [
    "Exceptions"
   ]
  },
  {
   "cell_type": "code",
   "execution_count": null,
   "id": "ec126e51",
   "metadata": {},
   "outputs": [],
   "source": [
    "n=int(input())\n",
    "for i in range(n):\n",
    " a, b = input().split()\n",
    " \n",
    " try:\n",
    "    print(int(int(a)/int(b)))\n",
    " except ZeroDivisionError:\n",
    "    print (\"Error Code: integer division or modulo by zero\")\n",
    " except ValueError as ValueError:\n",
    "    print (\"Error Code:\", ValueError)"
   ]
  },
  {
   "cell_type": "markdown",
   "id": "847a71a0",
   "metadata": {},
   "source": [
    "Zipped!"
   ]
  },
  {
   "cell_type": "code",
   "execution_count": null,
   "id": "aae9d8f4",
   "metadata": {},
   "outputs": [],
   "source": [
    "N,X=map(int,input().split())\n",
    "c=[]\n",
    "d=[]\n",
    "for i in range(X):\n",
    "  a=(tuple(map(float,input().split())))\n",
    "  c=c+[a]\n",
    "for i in zip(*c):\n",
    "  print(sum(i)/X)"
   ]
  },
  {
   "cell_type": "markdown",
   "id": "6a46ac3d",
   "metadata": {},
   "source": [
    "Athlete Sort"
   ]
  },
  {
   "cell_type": "code",
   "execution_count": null,
   "id": "5624cc92",
   "metadata": {},
   "outputs": [],
   "source": [
    "import math\n",
    "import os\n",
    "import random\n",
    "import re\n",
    "import sys\n",
    "\n",
    "\n",
    "\n",
    "if __name__ == '__main__':\n",
    "    nm = input().split()\n",
    "    n = int(nm[0])\n",
    "    m = int(nm[1])\n",
    "    arr = []\n",
    "    for _ in range(n):\n",
    "        arr.append(list(map(int, input().rstrip().split())))\n",
    "    k = int(input())\n",
    "\n",
    "    a=sorted(arr,key= lambda x:x[k])\n",
    "    \n",
    "    \n",
    "    for i in range(n):\n",
    "      for j in range(m):\n",
    "        print(''.join(str(a[i][j])),end=' ')\n",
    "      print('', end='\\n')"
   ]
  },
  {
   "cell_type": "markdown",
   "id": "c68f528b",
   "metadata": {},
   "source": [
    "ginortS"
   ]
  },
  {
   "cell_type": "code",
   "execution_count": null,
   "id": "2d199d94",
   "metadata": {},
   "outputs": [],
   "source": [
    "string=list(input())\n",
    "a=[]\n",
    "b=[]\n",
    "c=[]\n",
    "d=[]\n",
    "for i in string:\n",
    "    if i.islower():\n",
    "        a.append(i)\n",
    "    elif i.isupper():\n",
    "        b.append(i)\n",
    "    else:\n",
    "        if (int(i)%2)==1:\n",
    "            c.append(i)\n",
    "        else:\n",
    "            d.append(i)\n",
    "\n",
    "a1=''.join(sorted(a))\n",
    "b1=''.join(sorted(b))\n",
    "c1=''.join(sorted(c))\n",
    "d1=''.join(sorted(d))\n",
    "\n",
    "li=''.join([a1,b1,c1,d1])  \n",
    "print(li)          "
   ]
  },
  {
   "cell_type": "markdown",
   "id": "e362fbcc",
   "metadata": {},
   "source": [
    "Map and Lambda Function"
   ]
  },
  {
   "cell_type": "code",
   "execution_count": null,
   "id": "008d897a",
   "metadata": {},
   "outputs": [],
   "source": [
    "cube = lambda x: x**3\n",
    "\n",
    "def fibonacci(n):\n",
    "    # return a list of fibonacci numbers\n",
    "    if n==0:\n",
    "      return []\n",
    "    elif n==1:\n",
    "      return [0]\n",
    "    else:\n",
    "      l=[0,1]\n",
    "      for i in range(n-2):\n",
    "        l.append(l[-1]+l[-2])\n",
    "      return l\n",
    "  \n",
    "if __name__ == '__main__':\n",
    "    n = int(input())\n",
    "    print(list(map(cube, fibonacci(n))))"
   ]
  },
  {
   "cell_type": "markdown",
   "id": "6780cca5",
   "metadata": {},
   "source": [
    "Detect Floating point Number"
   ]
  },
  {
   "cell_type": "code",
   "execution_count": null,
   "id": "d3bc2645",
   "metadata": {},
   "outputs": [],
   "source": [
    "import re\n",
    "\n",
    "n=int(input())\n",
    "\n",
    "for i in range(n):\n",
    "  a=input()\n",
    "  print(bool(re.match(r\"^[-+]?\\d*[.]\\d*$\",a)))"
   ]
  },
  {
   "cell_type": "markdown",
   "id": "7081a4b8",
   "metadata": {},
   "source": [
    "Re.split()"
   ]
  },
  {
   "cell_type": "code",
   "execution_count": null,
   "id": "44540931",
   "metadata": {},
   "outputs": [],
   "source": [
    "regex_pattern = r\"[,-.]\"\n",
    "\n",
    "import re\n",
    "print(\"\\n\".join(re.split(regex_pattern, input())))"
   ]
  },
  {
   "cell_type": "markdown",
   "id": "a28a2274",
   "metadata": {},
   "source": [
    "Group(), Groups() & Groupdict()"
   ]
  },
  {
   "cell_type": "code",
   "execution_count": null,
   "id": "78370552",
   "metadata": {},
   "outputs": [],
   "source": [
    "import re\n",
    "a=input()\n",
    "m=re.findall(r'([A-Za-z0-9])\\1+',a)\n",
    "if len(m)>0:\n",
    "  print(m[0])\n",
    "else:\n",
    "  print(-1)"
   ]
  },
  {
   "cell_type": "markdown",
   "id": "02246876",
   "metadata": {},
   "source": [
    "Re.findall() & Re.finditer()"
   ]
  },
  {
   "cell_type": "code",
   "execution_count": null,
   "id": "64324672",
   "metadata": {},
   "outputs": [],
   "source": [
    "import re\n",
    "word=input()\n",
    "a=re.findall(r'(?<=[^aeiouAEIOU])[aeiouAEIOU]{2}[aeiouAEIOU]*(?=[^aeiouAEIOU])',word)\n",
    "if len(a)>0:\n",
    "  for i in a:\n",
    "     print(i)\n",
    "else:\n",
    "  print(-1)"
   ]
  },
  {
   "cell_type": "markdown",
   "id": "2e3136b5",
   "metadata": {},
   "source": [
    "Re.start() & Re.end()"
   ]
  },
  {
   "cell_type": "code",
   "execution_count": null,
   "id": "208471b4",
   "metadata": {},
   "outputs": [],
   "source": [
    "#l'ho visto interamente nelle discussion perciò non lo inserisco"
   ]
  },
  {
   "cell_type": "markdown",
   "id": "bcb26b0b",
   "metadata": {},
   "source": [
    "Regex Substitution"
   ]
  },
  {
   "cell_type": "code",
   "execution_count": null,
   "id": "2678e35a",
   "metadata": {},
   "outputs": [],
   "source": [
    "import re\n",
    "N=int(input())\n",
    "\n",
    "for i in range(N):\n",
    "  M=re.sub(r\"((?<=\\s)\\|\\|(?=\\s))\",\"or\",input())\n",
    "  M=re.sub(r\"((?<=\\s)&&(?=\\s))\",\"and\",M)\n",
    "  print(M)"
   ]
  },
  {
   "cell_type": "markdown",
   "id": "d254dc4c",
   "metadata": {},
   "source": [
    "Validating Roman Numerals"
   ]
  },
  {
   "cell_type": "code",
   "execution_count": null,
   "id": "0ea7afbc",
   "metadata": {},
   "outputs": [],
   "source": [
    "#l'ho visto interamente nelle discussion perciò non lo inserisco"
   ]
  },
  {
   "cell_type": "markdown",
   "id": "ed64c83e",
   "metadata": {},
   "source": [
    "Validating phone numbers"
   ]
  },
  {
   "cell_type": "code",
   "execution_count": null,
   "id": "f0410b3d",
   "metadata": {},
   "outputs": [],
   "source": [
    "import re\n",
    "N=int(input())\n",
    "\n",
    "for i in range(N):\n",
    "  if re.match(r'^[7-9][0-9]{9}$',input()):\n",
    "    print('YES')\n",
    "  else:\n",
    "    print('NO')"
   ]
  },
  {
   "cell_type": "markdown",
   "id": "9eb2cbce",
   "metadata": {},
   "source": [
    "Validating and Parsing Email Addreasses"
   ]
  },
  {
   "cell_type": "code",
   "execution_count": null,
   "id": "0e90a245",
   "metadata": {},
   "outputs": [],
   "source": [
    "import re\n",
    "n=int(input())\n",
    "for i in range(n):\n",
    "  new=list(input().split())\n",
    "  #print(new)\n",
    "  if re.match(r'^<[A-Za-z][\\w\\.\\-\\_]*@([A-Za-z])*\\.([A-Za-z]{1,3})>$',new[1]):\n",
    "    print(' '.join(new))"
   ]
  },
  {
   "cell_type": "markdown",
   "id": "60addd0a",
   "metadata": {},
   "source": [
    "Hex Color Code"
   ]
  },
  {
   "cell_type": "code",
   "execution_count": null,
   "id": "1bbe7451",
   "metadata": {},
   "outputs": [],
   "source": [
    "#l'ho visto interamente nelle discussion perciò non lo inserisco"
   ]
  },
  {
   "cell_type": "markdown",
   "id": "f71e7ee1",
   "metadata": {},
   "source": [
    "XML 1 - Find the Score"
   ]
  },
  {
   "cell_type": "code",
   "execution_count": null,
   "id": "06c96fc5",
   "metadata": {},
   "outputs": [],
   "source": [
    "import sys\n",
    "import xml.etree.ElementTree as etree\n",
    "import re\n",
    "\n",
    "def get_attr_number(node):\n",
    "    m=0\n",
    "    for i in node.iter():\n",
    "      m=m+len(i.attrib)\n",
    "    return m\n",
    "  \n",
    "    \n",
    "      \n",
    "if __name__ == '__main__':\n",
    "    sys.stdin.readline()\n",
    "    xml = sys.stdin.read()\n",
    "    tree = etree.ElementTree(etree.fromstring(xml))\n",
    "    root = tree.getroot()\n",
    "    print(get_attr_number(root))"
   ]
  },
  {
   "cell_type": "markdown",
   "id": "db4ac446",
   "metadata": {},
   "source": [
    "Standardize Mobile Number Using Decorators"
   ]
  },
  {
   "cell_type": "code",
   "execution_count": null,
   "id": "673edffc",
   "metadata": {},
   "outputs": [],
   "source": [
    "#l'ho visto interamente nelle discussion perciò non lo inserisco"
   ]
  },
  {
   "cell_type": "markdown",
   "id": "1b4debbe",
   "metadata": {},
   "source": [
    "Decorators 2 - Name Directory"
   ]
  },
  {
   "cell_type": "code",
   "execution_count": null,
   "id": "ee225dec",
   "metadata": {},
   "outputs": [],
   "source": [
    "#l'ho visto interamente nelle discussion perciò non lo inserisco"
   ]
  },
  {
   "cell_type": "markdown",
   "id": "48aebe39",
   "metadata": {},
   "source": [
    "Arrays"
   ]
  },
  {
   "cell_type": "code",
   "execution_count": null,
   "id": "e1e37189",
   "metadata": {},
   "outputs": [],
   "source": [
    "import numpy\n",
    "\n",
    "def arrays(arr):\n",
    "  arr.reverse()\n",
    "  return numpy.array(arr,float)\n",
    "\n",
    "arr = input().strip().split(' ')\n",
    "result = arrays(arr)\n",
    "print(result)"
   ]
  },
  {
   "cell_type": "markdown",
   "id": "a28f4be1",
   "metadata": {},
   "source": [
    "Shape and Reshape"
   ]
  },
  {
   "cell_type": "code",
   "execution_count": null,
   "id": "0efae569",
   "metadata": {},
   "outputs": [],
   "source": [
    "import numpy\n",
    "my_array = numpy.array(list(map(int,input().split())))\n",
    "my_array.shape = (3, 3)\n",
    "print(my_array)"
   ]
  },
  {
   "cell_type": "markdown",
   "id": "1c1e40af",
   "metadata": {},
   "source": [
    "Transpose and Flatten"
   ]
  },
  {
   "cell_type": "code",
   "execution_count": null,
   "id": "11e990d5",
   "metadata": {},
   "outputs": [],
   "source": [
    "import numpy\n",
    "a,b=map(int,input().split())\n",
    "li=[]\n",
    "\n",
    "for i in range(a):\n",
    "  li.append(list(map(int,input().split())))\n",
    "\n",
    "myarray=numpy.array(li)\n",
    "myarray.shape=(a,b)\n",
    "print(numpy.transpose(myarray))\n",
    "print(myarray.flatten())"
   ]
  },
  {
   "cell_type": "markdown",
   "id": "21d3ae3f",
   "metadata": {},
   "source": [
    "Concatenate"
   ]
  },
  {
   "cell_type": "code",
   "execution_count": null,
   "id": "73e68e28",
   "metadata": {},
   "outputs": [],
   "source": [
    "import numpy\n",
    "N,M,P=list(map(int,input().split()))\n",
    "array1=[]\n",
    "array2=[]\n",
    "for _ in range(N):\n",
    "    array1.append(numpy.array(list(map(int, input().split()))))\n",
    "for _ in range(M):\n",
    "    array2.append(numpy.array(list(map(int, input().split()))))\n",
    "\n",
    "print(numpy.concatenate((array1,array2), axis=0))"
   ]
  },
  {
   "cell_type": "markdown",
   "id": "e8298549",
   "metadata": {},
   "source": [
    "Zeros and Ones"
   ]
  },
  {
   "cell_type": "code",
   "execution_count": null,
   "id": "1f8548a1",
   "metadata": {
    "scrolled": true
   },
   "outputs": [],
   "source": [
    "import numpy\n",
    "a=list(map(int,input().split()))\n",
    "print(numpy.zeros((a), dtype = numpy.int))\n",
    "print(numpy.ones((a), dtype = numpy.int))"
   ]
  },
  {
   "cell_type": "markdown",
   "id": "366c04ae",
   "metadata": {},
   "source": [
    "Eye and Identity"
   ]
  },
  {
   "cell_type": "code",
   "execution_count": null,
   "id": "de5e3d2a",
   "metadata": {},
   "outputs": [],
   "source": [
    "import numpy\n",
    "numpy.set_printoptions(legacy='1.13')\n",
    "a=list(map(int,input().split()))\n",
    "print(numpy.eye(a[0],a[1], k = 0) )"
   ]
  },
  {
   "cell_type": "markdown",
   "id": "21af2f1a",
   "metadata": {},
   "source": [
    "Array Mathematics"
   ]
  },
  {
   "cell_type": "code",
   "execution_count": null,
   "id": "fe51ddde",
   "metadata": {},
   "outputs": [],
   "source": [
    "import numpy\n",
    "N,M=list(map(int,input().split()))\n",
    "\n",
    "A= [numpy.array(input().split(), int) for _ in range(N)]\n",
    "B =[numpy.array(input().split(), int) for _ in range(N)]\n",
    "#print(A)\n",
    "print(numpy.add(A,B))\n",
    "print(numpy.subtract(A,B))\n",
    "print(numpy.multiply(A,B))\n",
    "print(numpy.floor_divide(A,B))\n",
    "print(numpy.mod(A,B))\n",
    "print(numpy.power(A,B))"
   ]
  },
  {
   "cell_type": "markdown",
   "id": "c80c4d89",
   "metadata": {},
   "source": [
    "Floor, Ceil and Rint"
   ]
  },
  {
   "cell_type": "code",
   "execution_count": null,
   "id": "42708aff",
   "metadata": {},
   "outputs": [],
   "source": [
    "import numpy\n",
    "numpy.set_printoptions(legacy='1.13')\n",
    "arr=numpy.array(list(map(float,input().split())))\n",
    "print(numpy.floor(arr))\n",
    "print(numpy.ceil(arr))\n",
    "print(numpy.rint(arr))"
   ]
  },
  {
   "cell_type": "markdown",
   "id": "fc88431a",
   "metadata": {},
   "source": [
    "Sum and Prod"
   ]
  },
  {
   "cell_type": "code",
   "execution_count": null,
   "id": "35205671",
   "metadata": {},
   "outputs": [],
   "source": [
    "import numpy\n",
    "N,M=list(map(int,input().split()))\n",
    "array1=[]\n",
    "for _ in range(N):\n",
    "    array1.append(numpy.array(list(map(int, input().split()))))\n",
    "\n",
    "print(numpy.prod(numpy.sum(array1, axis = 0)))"
   ]
  },
  {
   "cell_type": "markdown",
   "id": "b37dd905",
   "metadata": {},
   "source": [
    "Min and Max"
   ]
  },
  {
   "cell_type": "code",
   "execution_count": null,
   "id": "6752bea8",
   "metadata": {},
   "outputs": [],
   "source": [
    "import numpy\n",
    "N,M=list(map(int,input().split()))\n",
    "array1=[]\n",
    "for _ in range(N):\n",
    "    array1.append(numpy.array(list(map(int, input().split()))))\n",
    "\n",
    "print(numpy.max(numpy.min(array1, axis = 1)))"
   ]
  },
  {
   "cell_type": "markdown",
   "id": "d4d4099b",
   "metadata": {},
   "source": [
    "Mean, Var and Std"
   ]
  },
  {
   "cell_type": "code",
   "execution_count": null,
   "id": "0b335b88",
   "metadata": {},
   "outputs": [],
   "source": [
    "import numpy\n",
    "N,M=list(map(int,input().split()))\n",
    "array1=[]\n",
    "for _ in range(N):\n",
    "    array1.append(numpy.array(list(map(int, input().split()))))\n",
    "\n",
    "print(numpy.mean(array1, axis = 1))\n",
    "print(numpy.var(array1, axis = 0))\n",
    "print(round(numpy.std(array1), 11))"
   ]
  },
  {
   "cell_type": "markdown",
   "id": "89a8a2ec",
   "metadata": {},
   "source": [
    "Dot and Cross"
   ]
  },
  {
   "cell_type": "code",
   "execution_count": null,
   "id": "04e283d3",
   "metadata": {},
   "outputs": [],
   "source": [
    "import numpy\n",
    "N=int(input())\n",
    "array1=[]\n",
    "array2=[]\n",
    "arr=[]\n",
    "for _ in range(N):\n",
    "    array1.append(numpy.array(list(map(int, input().split()))))\n",
    "for _ in range(N):\n",
    "    array2.append(numpy.array(list(map(int, input().split()))))\n",
    "    \n",
    "print(numpy.dot(array1,array2))"
   ]
  },
  {
   "cell_type": "markdown",
   "id": "45f714c4",
   "metadata": {},
   "source": [
    "Inner and Outer"
   ]
  },
  {
   "cell_type": "code",
   "execution_count": null,
   "id": "b5814f78",
   "metadata": {},
   "outputs": [],
   "source": [
    "import numpy\n",
    "array1=(numpy.array(list(map(int, input().split()))))\n",
    "array2=(numpy.array(list(map(int, input().split()))))\n",
    "\n",
    "print(numpy.inner(array1,array2))\n",
    "print(numpy.outer(array1,array2))"
   ]
  },
  {
   "cell_type": "markdown",
   "id": "ee6841cd",
   "metadata": {},
   "source": [
    "Polynomials"
   ]
  },
  {
   "cell_type": "code",
   "execution_count": null,
   "id": "f839783b",
   "metadata": {},
   "outputs": [],
   "source": [
    "import numpy\n",
    "\n",
    "print (numpy.polyval(list(map(float,input().split())), float(input())))"
   ]
  },
  {
   "cell_type": "markdown",
   "id": "3b36d909",
   "metadata": {},
   "source": [
    "Linear Algebra"
   ]
  },
  {
   "cell_type": "code",
   "execution_count": null,
   "id": "22ccd715",
   "metadata": {},
   "outputs": [],
   "source": [
    "import numpy\n",
    "N=int(input())\n",
    "array1=[]\n",
    "for _ in range(N):\n",
    "    array1.append(numpy.array(list(map(float, input().split()))))\n",
    "print(round(numpy.linalg.det(array1),2))"
   ]
  },
  {
   "cell_type": "markdown",
   "id": "897c47ef",
   "metadata": {},
   "source": [
    "Birthday Cake Candles"
   ]
  },
  {
   "cell_type": "code",
   "execution_count": null,
   "id": "1ab5cc0e",
   "metadata": {},
   "outputs": [],
   "source": [
    "import math\n",
    "import os\n",
    "import random\n",
    "import re\n",
    "import sys\n",
    "from collections import Counter as C\n",
    "#\n",
    "# Complete the 'birthdayCakeCandles' function below.\n",
    "#\n",
    "# The function is expected to return an INTEGER.\n",
    "# The function accepts INTEGER_ARRAY candles as parameter.\n",
    "#\n",
    "\n",
    "def birthdayCakeCandles(candles):\n",
    "    # Write your code here\n",
    "    height=C(candles)\n",
    "    return  sorted(list(height.values()),reverse=True)[0]\n",
    "\n",
    "    \n",
    "\n",
    "if __name__ == '__main__':\n",
    "    fptr = open(os.environ['OUTPUT_PATH'], 'w')\n",
    "\n",
    "    candles_count = int(input().strip())\n",
    "\n",
    "    candles = list(map(int, input().rstrip().split()))\n",
    "\n",
    "    result = birthdayCakeCandles(candles)\n",
    "\n",
    "    fptr.write(str(result) + '\\n')\n",
    "\n",
    "    fptr.close()\n"
   ]
  },
  {
   "cell_type": "markdown",
   "id": "fc6e976a",
   "metadata": {},
   "source": [
    "Number Line Jumps"
   ]
  },
  {
   "cell_type": "code",
   "execution_count": null,
   "id": "06cf638d",
   "metadata": {},
   "outputs": [],
   "source": [
    "import math\n",
    "import os\n",
    "import random\n",
    "import re\n",
    "import sys\n",
    "\n",
    "\n",
    "def kangaroo(x1, v1, x2, v2):\n",
    "    # Write your code here\n",
    "    if (v1-v2)>0 and (((x2-x1)/(v1-v2))==float((x2-x1)//(v1-v2))):\n",
    "      return 'YES'\n",
    "    else:\n",
    "      return 'NO'\n",
    "if __name__ == '__main__':\n",
    "    fptr = open(os.environ['OUTPUT_PATH'], 'w')\n",
    "\n",
    "    first_multiple_input = input().rstrip().split()\n",
    "\n",
    "    x1 = int(first_multiple_input[0])\n",
    "\n",
    "    v1 = int(first_multiple_input[1])\n",
    "\n",
    "    x2 = int(first_multiple_input[2])\n",
    "\n",
    "    v2 = int(first_multiple_input[3])\n",
    "\n",
    "    result = kangaroo(x1, v1, x2, v2)\n",
    "\n",
    "    fptr.write(result + '\\n')\n",
    "\n",
    "    fptr.close()\n"
   ]
  },
  {
   "cell_type": "markdown",
   "id": "9a1a921c",
   "metadata": {},
   "source": [
    "Viral Advertising"
   ]
  },
  {
   "cell_type": "code",
   "execution_count": null,
   "id": "f3304567",
   "metadata": {},
   "outputs": [],
   "source": [
    "import math\n",
    "import os\n",
    "import random\n",
    "import re\n",
    "import sys\n",
    "\n",
    "def viralAdvertising(n):\n",
    "    # Write your code here\n",
    "    f=2\n",
    "    sum=2\n",
    "    for _ in range(n-1):\n",
    "      f=math.floor((f*3)/2)\n",
    "      sum+=f\n",
    "    return sum\n",
    "      \n",
    "\n",
    "if __name__ == '__main__':\n",
    "    fptr = open(os.environ['OUTPUT_PATH'], 'w')\n",
    "\n",
    "    n = int(input().strip())\n",
    "    result = viralAdvertising(n)\n",
    "\n",
    "    fptr.write(str(result) + '\\n')\n",
    "\n",
    "    fptr.close()"
   ]
  },
  {
   "cell_type": "markdown",
   "id": "d0a2488b",
   "metadata": {},
   "source": [
    "Recursive Digit Sum"
   ]
  },
  {
   "cell_type": "code",
   "execution_count": null,
   "id": "c0671108",
   "metadata": {},
   "outputs": [],
   "source": [
    "import math\n",
    "import os\n",
    "import random\n",
    "import re\n",
    "import sys\n",
    "\n",
    "def superDigit(n,k):\n",
    "  \n",
    "  a=sum(list(map(int,n.strip())))*k\n",
    "  while a>9:\n",
    "    b=list(map(int,str(a).strip()))\n",
    "    a=sum(b)\n",
    "  \n",
    "  return a\n",
    "    \n",
    "    \n",
    "    \n",
    "      \n",
    "if __name__ == '__main__':\n",
    "    fptr = open(os.environ['OUTPUT_PATH'], 'w')\n",
    "\n",
    "    first_multiple_input = input().rstrip().split()\n",
    "\n",
    "    n = first_multiple_input[0]\n",
    "\n",
    "    k = int(first_multiple_input[1])\n",
    "    \n",
    "    result = superDigit(n,k)\n",
    "\n",
    "    fptr.write(str(result) + '\\n')\n",
    "\n",
    "    fptr.close()\n"
   ]
  },
  {
   "cell_type": "markdown",
   "id": "c1eaf820",
   "metadata": {},
   "source": [
    "Insertion Sort - Part 1"
   ]
  },
  {
   "cell_type": "code",
   "execution_count": null,
   "id": "9d22e2b6",
   "metadata": {},
   "outputs": [],
   "source": [
    "import math\n",
    "import os\n",
    "import random\n",
    "import re\n",
    "import sys\n",
    "\n",
    "def insertionSort1(n, arr):\n",
    "    # Write your code here\n",
    "    k=n-1\n",
    "    a=arr[n-1]\n",
    "    check=True\n",
    "    while k>0 and check:\n",
    "      if a<arr[k-1]:\n",
    "        arr[k]=arr[k-1]\n",
    "      else:\n",
    "        arr[k]=a\n",
    "        a=arr[k-1]\n",
    "        check=False\n",
    "      print(' '.join(list(map(str,arr))))\n",
    "      k-=1\n",
    "    if arr[0]>a:\n",
    "      arr[0]=a\n",
    "      print(' '.join(list(map(str,arr))))\n",
    "      \n",
    "\n",
    "if __name__ == '__main__':\n",
    "    n = int(input().strip())\n",
    "\n",
    "    arr = list(map(int, input().rstrip().split()))\n",
    "\n",
    "    insertionSort1(n, arr)\n"
   ]
  },
  {
   "cell_type": "markdown",
   "id": "4817ffc3",
   "metadata": {},
   "source": [
    "Insertion Sort - Part 2"
   ]
  },
  {
   "cell_type": "code",
   "execution_count": null,
   "id": "1d6dbd0e",
   "metadata": {},
   "outputs": [],
   "source": [
    "import math\n",
    "import os\n",
    "import random\n",
    "import re\n",
    "import sys\n",
    "\n",
    "def insertionSort2(n, arr):\n",
    "  k=0\n",
    "  while k<n-1:\n",
    "    i=0\n",
    "    check=True\n",
    "    while i<k+1 and check:\n",
    "      if arr[k+1]<=arr[i]:\n",
    "        a=arr[i]\n",
    "        arr[i]=arr[k+1]\n",
    "        for j in range(k-i+1):\n",
    "          b=arr[j+i+1]\n",
    "          arr[j+i+1]=a\n",
    "          a=b\n",
    "          check=False     \n",
    "      i+=1\n",
    "    print(' '.join(list(map(str,arr))))  \n",
    "    k+=1  \n",
    "\n",
    "if __name__ == '__main__':\n",
    "    n = int(input().strip())\n",
    "\n",
    "    arr = list(map(int, input().rstrip().split()))\n",
    "\n",
    "    insertionSort2(n, arr)\n"
   ]
  }
 ],
 "metadata": {
  "kernelspec": {
   "display_name": "Python 3 (ipykernel)",
   "language": "python",
   "name": "python3"
  },
  "language_info": {
   "codemirror_mode": {
    "name": "ipython",
    "version": 3
   },
   "file_extension": ".py",
   "mimetype": "text/x-python",
   "name": "python",
   "nbconvert_exporter": "python",
   "pygments_lexer": "ipython3",
   "version": "3.9.12"
  }
 },
 "nbformat": 4,
 "nbformat_minor": 5
}
